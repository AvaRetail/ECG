{
 "cells": [
  {
   "cell_type": "code",
   "execution_count": 1,
   "metadata": {},
   "outputs": [],
   "source": [
    "# ! pip install matplotlib transformers datasets opencv-python h5py accelerate sckit-learn"
   ]
  },
  {
   "cell_type": "markdown",
   "metadata": {},
   "source": [
    "### Importing the necessary python libraries"
   ]
  },
  {
   "cell_type": "code",
   "execution_count": 2,
   "metadata": {},
   "outputs": [
    {
     "name": "stderr",
     "output_type": "stream",
     "text": [
      "c:\\Users\\ATI-G2\\Envs\\trans\\Lib\\site-packages\\tqdm\\auto.py:21: TqdmWarning: IProgress not found. Please update jupyter and ipywidgets. See https://ipywidgets.readthedocs.io/en/stable/user_install.html\n",
      "  from .autonotebook import tqdm as notebook_tqdm\n"
     ]
    }
   ],
   "source": [
    "import numpy as np\n",
    "import h5py\n",
    "from datasets import Dataset, load_dataset\n",
    "import pandas as pd\n",
    "import cv2\n",
    "import torch\n",
    "import math\n",
    "from matplotlib import pyplot as plt\n",
    "\n",
    "import os\n",
    "import shutil\n",
    "import re\n",
    "import glob"
   ]
  },
  {
   "cell_type": "code",
   "execution_count": 3,
   "metadata": {},
   "outputs": [],
   "source": [
    "from sequence import ECGSequence"
   ]
  },
  {
   "cell_type": "markdown",
   "metadata": {},
   "source": [
    "### defining the paths"
   ]
  },
  {
   "cell_type": "code",
   "execution_count": 8,
   "metadata": {},
   "outputs": [],
   "source": [
    "hdf5_path =  r\"C:\\Users\\ATI-G2\\Documents\\python\\ECG\\data\\code-15\\exams_part4.hdf5\" #-- change this line\n",
    "exams_csv_path = r\"C:\\Users\\ATI-G2\\Documents\\python\\ECG\\data\\code-15\\exams.csv\""
   ]
  },
  {
   "cell_type": "markdown",
   "metadata": {},
   "source": [
    "### Transformers and datasets using hugging faces"
   ]
  },
  {
   "cell_type": "code",
   "execution_count": 2,
   "metadata": {},
   "outputs": [
    {
     "name": "stderr",
     "output_type": "stream",
     "text": [
      "Resolving data files: 100%|██████████| 24341/24341 [00:00<00:00, 461865.65it/s]\n",
      "Downloading data files: 100%|██████████| 24341/24341 [00:00<00:00, 25872.05it/s]\n",
      "Downloading data files: 0it [00:00, ?it/s]\n",
      "Extracting data files: 0it [00:00, ?it/s]\n",
      "Generating train split: 24341 examples [00:01, 14427.20 examples/s]                    \n"
     ]
    },
    {
     "ename": "NonMatchingSplitsSizesError",
     "evalue": "[{'expected': SplitInfo(name='train', num_bytes=1878324, num_examples=20000, shard_lengths=None, dataset_name=None), 'recorded': SplitInfo(name='train', num_bytes=2299618, num_examples=24341, shard_lengths=None, dataset_name='vit-data')}]",
     "output_type": "error",
     "traceback": [
      "\u001b[1;31m---------------------------------------------------------------------------\u001b[0m",
      "\u001b[1;31mNonMatchingSplitsSizesError\u001b[0m               Traceback (most recent call last)",
      "Cell \u001b[1;32mIn[2], line 4\u001b[0m\n\u001b[0;32m      1\u001b[0m \u001b[39mfrom\u001b[39;00m \u001b[39mdatasets\u001b[39;00m \u001b[39mimport\u001b[39;00m load_dataset\n\u001b[0;32m      2\u001b[0m data_root_fldr \u001b[39m=\u001b[39m \u001b[39mr\u001b[39m\u001b[39m\"\u001b[39m\u001b[39mC:\u001b[39m\u001b[39m\\\u001b[39m\u001b[39mUsers\u001b[39m\u001b[39m\\\u001b[39m\u001b[39mATI-G2\u001b[39m\u001b[39m\\\u001b[39m\u001b[39mDocuments\u001b[39m\u001b[39m\\\u001b[39m\u001b[39mpython\u001b[39m\u001b[39m\\\u001b[39m\u001b[39mECG\u001b[39m\u001b[39m\\\u001b[39m\u001b[39mdata\u001b[39m\u001b[39m\\\u001b[39m\u001b[39mvit-data\u001b[39m\u001b[39m\"\u001b[39m\n\u001b[1;32m----> 4\u001b[0m data \u001b[39m=\u001b[39m load_dataset(data_root_fldr,split\u001b[39m=\u001b[39;49m\u001b[39m\"\u001b[39;49m\u001b[39mtrain\u001b[39;49m\u001b[39m\"\u001b[39;49m) \n\u001b[0;32m      5\u001b[0m data\n",
      "File \u001b[1;32mc:\\Users\\ATI-G2\\Envs\\trans\\Lib\\site-packages\\datasets\\load.py:2136\u001b[0m, in \u001b[0;36mload_dataset\u001b[1;34m(path, name, data_dir, data_files, split, cache_dir, features, download_config, download_mode, verification_mode, ignore_verifications, keep_in_memory, save_infos, revision, token, use_auth_token, task, streaming, num_proc, storage_options, **config_kwargs)\u001b[0m\n\u001b[0;32m   2133\u001b[0m try_from_hf_gcs \u001b[39m=\u001b[39m path \u001b[39mnot\u001b[39;00m \u001b[39min\u001b[39;00m _PACKAGED_DATASETS_MODULES\n\u001b[0;32m   2135\u001b[0m \u001b[39m# Download and prepare data\u001b[39;00m\n\u001b[1;32m-> 2136\u001b[0m builder_instance\u001b[39m.\u001b[39;49mdownload_and_prepare(\n\u001b[0;32m   2137\u001b[0m     download_config\u001b[39m=\u001b[39;49mdownload_config,\n\u001b[0;32m   2138\u001b[0m     download_mode\u001b[39m=\u001b[39;49mdownload_mode,\n\u001b[0;32m   2139\u001b[0m     verification_mode\u001b[39m=\u001b[39;49mverification_mode,\n\u001b[0;32m   2140\u001b[0m     try_from_hf_gcs\u001b[39m=\u001b[39;49mtry_from_hf_gcs,\n\u001b[0;32m   2141\u001b[0m     num_proc\u001b[39m=\u001b[39;49mnum_proc,\n\u001b[0;32m   2142\u001b[0m     storage_options\u001b[39m=\u001b[39;49mstorage_options,\n\u001b[0;32m   2143\u001b[0m )\n\u001b[0;32m   2145\u001b[0m \u001b[39m# Build dataset for splits\u001b[39;00m\n\u001b[0;32m   2146\u001b[0m keep_in_memory \u001b[39m=\u001b[39m (\n\u001b[0;32m   2147\u001b[0m     keep_in_memory \u001b[39mif\u001b[39;00m keep_in_memory \u001b[39mis\u001b[39;00m \u001b[39mnot\u001b[39;00m \u001b[39mNone\u001b[39;00m \u001b[39melse\u001b[39;00m is_small_dataset(builder_instance\u001b[39m.\u001b[39minfo\u001b[39m.\u001b[39mdataset_size)\n\u001b[0;32m   2148\u001b[0m )\n",
      "File \u001b[1;32mc:\\Users\\ATI-G2\\Envs\\trans\\Lib\\site-packages\\datasets\\builder.py:954\u001b[0m, in \u001b[0;36mDatasetBuilder.download_and_prepare\u001b[1;34m(self, output_dir, download_config, download_mode, verification_mode, ignore_verifications, try_from_hf_gcs, dl_manager, base_path, use_auth_token, file_format, max_shard_size, num_proc, storage_options, **download_and_prepare_kwargs)\u001b[0m\n\u001b[0;32m    952\u001b[0m     \u001b[39mif\u001b[39;00m num_proc \u001b[39mis\u001b[39;00m \u001b[39mnot\u001b[39;00m \u001b[39mNone\u001b[39;00m:\n\u001b[0;32m    953\u001b[0m         prepare_split_kwargs[\u001b[39m\"\u001b[39m\u001b[39mnum_proc\u001b[39m\u001b[39m\"\u001b[39m] \u001b[39m=\u001b[39m num_proc\n\u001b[1;32m--> 954\u001b[0m     \u001b[39mself\u001b[39;49m\u001b[39m.\u001b[39;49m_download_and_prepare(\n\u001b[0;32m    955\u001b[0m         dl_manager\u001b[39m=\u001b[39;49mdl_manager,\n\u001b[0;32m    956\u001b[0m         verification_mode\u001b[39m=\u001b[39;49mverification_mode,\n\u001b[0;32m    957\u001b[0m         \u001b[39m*\u001b[39;49m\u001b[39m*\u001b[39;49mprepare_split_kwargs,\n\u001b[0;32m    958\u001b[0m         \u001b[39m*\u001b[39;49m\u001b[39m*\u001b[39;49mdownload_and_prepare_kwargs,\n\u001b[0;32m    959\u001b[0m     )\n\u001b[0;32m    960\u001b[0m \u001b[39m# Sync info\u001b[39;00m\n\u001b[0;32m    961\u001b[0m \u001b[39mself\u001b[39m\u001b[39m.\u001b[39minfo\u001b[39m.\u001b[39mdataset_size \u001b[39m=\u001b[39m \u001b[39msum\u001b[39m(split\u001b[39m.\u001b[39mnum_bytes \u001b[39mfor\u001b[39;00m split \u001b[39min\u001b[39;00m \u001b[39mself\u001b[39m\u001b[39m.\u001b[39minfo\u001b[39m.\u001b[39msplits\u001b[39m.\u001b[39mvalues())\n",
      "File \u001b[1;32mc:\\Users\\ATI-G2\\Envs\\trans\\Lib\\site-packages\\datasets\\builder.py:1717\u001b[0m, in \u001b[0;36mGeneratorBasedBuilder._download_and_prepare\u001b[1;34m(self, dl_manager, verification_mode, **prepare_splits_kwargs)\u001b[0m\n\u001b[0;32m   1716\u001b[0m \u001b[39mdef\u001b[39;00m \u001b[39m_download_and_prepare\u001b[39m(\u001b[39mself\u001b[39m, dl_manager, verification_mode, \u001b[39m*\u001b[39m\u001b[39m*\u001b[39mprepare_splits_kwargs):\n\u001b[1;32m-> 1717\u001b[0m     \u001b[39msuper\u001b[39;49m()\u001b[39m.\u001b[39;49m_download_and_prepare(\n\u001b[0;32m   1718\u001b[0m         dl_manager,\n\u001b[0;32m   1719\u001b[0m         verification_mode,\n\u001b[0;32m   1720\u001b[0m         check_duplicate_keys\u001b[39m=\u001b[39;49mverification_mode \u001b[39m==\u001b[39;49m VerificationMode\u001b[39m.\u001b[39;49mBASIC_CHECKS\n\u001b[0;32m   1721\u001b[0m         \u001b[39mor\u001b[39;49;00m verification_mode \u001b[39m==\u001b[39;49m VerificationMode\u001b[39m.\u001b[39;49mALL_CHECKS,\n\u001b[0;32m   1722\u001b[0m         \u001b[39m*\u001b[39;49m\u001b[39m*\u001b[39;49mprepare_splits_kwargs,\n\u001b[0;32m   1723\u001b[0m     )\n",
      "File \u001b[1;32mc:\\Users\\ATI-G2\\Envs\\trans\\Lib\\site-packages\\datasets\\builder.py:1067\u001b[0m, in \u001b[0;36mDatasetBuilder._download_and_prepare\u001b[1;34m(self, dl_manager, verification_mode, **prepare_split_kwargs)\u001b[0m\n\u001b[0;32m   1064\u001b[0m     dl_manager\u001b[39m.\u001b[39mmanage_extracted_files()\n\u001b[0;32m   1066\u001b[0m \u001b[39mif\u001b[39;00m verification_mode \u001b[39m==\u001b[39m VerificationMode\u001b[39m.\u001b[39mBASIC_CHECKS \u001b[39mor\u001b[39;00m verification_mode \u001b[39m==\u001b[39m VerificationMode\u001b[39m.\u001b[39mALL_CHECKS:\n\u001b[1;32m-> 1067\u001b[0m     verify_splits(\u001b[39mself\u001b[39;49m\u001b[39m.\u001b[39;49minfo\u001b[39m.\u001b[39;49msplits, split_dict)\n\u001b[0;32m   1069\u001b[0m \u001b[39m# Update the info object with the splits.\u001b[39;00m\n\u001b[0;32m   1070\u001b[0m \u001b[39mself\u001b[39m\u001b[39m.\u001b[39minfo\u001b[39m.\u001b[39msplits \u001b[39m=\u001b[39m split_dict\n",
      "File \u001b[1;32mc:\\Users\\ATI-G2\\Envs\\trans\\Lib\\site-packages\\datasets\\utils\\info_utils.py:100\u001b[0m, in \u001b[0;36mverify_splits\u001b[1;34m(expected_splits, recorded_splits)\u001b[0m\n\u001b[0;32m     94\u001b[0m bad_splits \u001b[39m=\u001b[39m [\n\u001b[0;32m     95\u001b[0m     {\u001b[39m\"\u001b[39m\u001b[39mexpected\u001b[39m\u001b[39m\"\u001b[39m: expected_splits[name], \u001b[39m\"\u001b[39m\u001b[39mrecorded\u001b[39m\u001b[39m\"\u001b[39m: recorded_splits[name]}\n\u001b[0;32m     96\u001b[0m     \u001b[39mfor\u001b[39;00m name \u001b[39min\u001b[39;00m expected_splits\n\u001b[0;32m     97\u001b[0m     \u001b[39mif\u001b[39;00m expected_splits[name]\u001b[39m.\u001b[39mnum_examples \u001b[39m!=\u001b[39m recorded_splits[name]\u001b[39m.\u001b[39mnum_examples\n\u001b[0;32m     98\u001b[0m ]\n\u001b[0;32m     99\u001b[0m \u001b[39mif\u001b[39;00m \u001b[39mlen\u001b[39m(bad_splits) \u001b[39m>\u001b[39m \u001b[39m0\u001b[39m:\n\u001b[1;32m--> 100\u001b[0m     \u001b[39mraise\u001b[39;00m NonMatchingSplitsSizesError(\u001b[39mstr\u001b[39m(bad_splits))\n\u001b[0;32m    101\u001b[0m logger\u001b[39m.\u001b[39minfo(\u001b[39m\"\u001b[39m\u001b[39mAll the splits matched successfully.\u001b[39m\u001b[39m\"\u001b[39m)\n",
      "\u001b[1;31mNonMatchingSplitsSizesError\u001b[0m: [{'expected': SplitInfo(name='train', num_bytes=1878324, num_examples=20000, shard_lengths=None, dataset_name=None), 'recorded': SplitInfo(name='train', num_bytes=2299618, num_examples=24341, shard_lengths=None, dataset_name='vit-data')}]"
     ]
    }
   ],
   "source": [
    "# from datasets import load_dataset\n",
    "# data_root_fldr = r\"C:\\Users\\ATI-G2\\Documents\\python\\ECG\\data\\vit-data\"\n",
    "\n",
    "# data = load_dataset(data_root_fldr,split=\"train\") \n",
    "# data\n",
    "\n"
   ]
  },
  {
   "cell_type": "markdown",
   "metadata": {},
   "source": [
    "### Working on extracting the labels for the generated images into a csv file"
   ]
  },
  {
   "cell_type": "code",
   "execution_count": 9,
   "metadata": {},
   "outputs": [
    {
     "data": {
      "text/html": [
       "<div>\n",
       "<style scoped>\n",
       "    .dataframe tbody tr th:only-of-type {\n",
       "        vertical-align: middle;\n",
       "    }\n",
       "\n",
       "    .dataframe tbody tr th {\n",
       "        vertical-align: top;\n",
       "    }\n",
       "\n",
       "    .dataframe thead th {\n",
       "        text-align: right;\n",
       "    }\n",
       "</style>\n",
       "<table border=\"1\" class=\"dataframe\">\n",
       "  <thead>\n",
       "    <tr style=\"text-align: right;\">\n",
       "      <th></th>\n",
       "      <th>age</th>\n",
       "      <th>is_male</th>\n",
       "      <th>nn_predicted_age</th>\n",
       "      <th>1dAVb</th>\n",
       "      <th>RBBB</th>\n",
       "      <th>LBBB</th>\n",
       "      <th>SB</th>\n",
       "      <th>ST</th>\n",
       "      <th>AF</th>\n",
       "      <th>patient_id</th>\n",
       "      <th>death</th>\n",
       "      <th>timey</th>\n",
       "      <th>normal_ecg</th>\n",
       "      <th>trace_file</th>\n",
       "    </tr>\n",
       "    <tr>\n",
       "      <th>exam_id</th>\n",
       "      <th></th>\n",
       "      <th></th>\n",
       "      <th></th>\n",
       "      <th></th>\n",
       "      <th></th>\n",
       "      <th></th>\n",
       "      <th></th>\n",
       "      <th></th>\n",
       "      <th></th>\n",
       "      <th></th>\n",
       "      <th></th>\n",
       "      <th></th>\n",
       "      <th></th>\n",
       "      <th></th>\n",
       "    </tr>\n",
       "  </thead>\n",
       "  <tbody>\n",
       "    <tr>\n",
       "      <th>1169160</th>\n",
       "      <td>38</td>\n",
       "      <td>True</td>\n",
       "      <td>40.160484</td>\n",
       "      <td>False</td>\n",
       "      <td>False</td>\n",
       "      <td>False</td>\n",
       "      <td>False</td>\n",
       "      <td>False</td>\n",
       "      <td>False</td>\n",
       "      <td>523632</td>\n",
       "      <td>False</td>\n",
       "      <td>2.098628</td>\n",
       "      <td>True</td>\n",
       "      <td>exams_part13.hdf5</td>\n",
       "    </tr>\n",
       "  </tbody>\n",
       "</table>\n",
       "</div>"
      ],
      "text/plain": [
       "         age  is_male  nn_predicted_age  1dAVb   RBBB   LBBB     SB     ST  \\\n",
       "exam_id                                                                      \n",
       "1169160   38     True         40.160484  False  False  False  False  False   \n",
       "\n",
       "            AF  patient_id  death     timey  normal_ecg         trace_file  \n",
       "exam_id                                                                     \n",
       "1169160  False      523632  False  2.098628        True  exams_part13.hdf5  "
      ]
     },
     "execution_count": 9,
     "metadata": {},
     "output_type": "execute_result"
    }
   ],
   "source": [
    "# pd_results.head(1)\n",
    "\n",
    "# pd_req.info(), pd_req.describe()\n",
    "# df = pd_req\n",
    "\n",
    "# # Create a summary list of dictionaries\n",
    "# summary = []\n",
    "\n",
    "# for column in df.columns:\n",
    "#     unique_counts = df[column].value_counts().to_dict()\n",
    "#     summary.append({'Column': column, 'Unique_Values': unique_counts})\n",
    "\n",
    "# # Create a summary DataFrame from the list of dictionaries\n",
    "# summary_df = pd.DataFrame(summary)\n",
    "\n",
    "# print(summary_df)\n"
   ]
  },
  {
   "cell_type": "code",
   "execution_count": 134,
   "metadata": {},
   "outputs": [],
   "source": [
    "# exam_id = np.delete(np.array(f[\"exam_id\"]),np.where(np.array(f[\"exam_id\"])==0)).tolist()\n",
    "# pd_req = pd_results.loc[exam_id,[\"1dAVb\",\"RBBB\",\"LBBB\",\"SB\",\"ST\",\"AF\",\"normal_ecg\"]]\n",
    "# labels_arr = pd_req.to_numpy()\n"
   ]
  },
  {
   "cell_type": "markdown",
   "metadata": {},
   "source": [
    "Creating the folders for the classification task"
   ]
  },
  {
   "cell_type": "code",
   "execution_count": 15,
   "metadata": {},
   "outputs": [
    {
     "name": "stdout",
     "output_type": "stream",
     "text": [
      "normal count 7670\n",
      "not normal count 10133\n",
      "disease count 2197\n"
     ]
    }
   ],
   "source": [
    "hdf5_path =  r\"C:\\Users\\ATI-G2\\Documents\\python\\ECG\\data\\code-15\\exams_part3.hdf5\" #-- change this line\n",
    "\n",
    "# with h5py.File(hdf5_path,\"r\") as f:\n",
    "\n",
    "pd_results = pd.read_csv(exams_csv_path,index_col=\"exam_id\")\n",
    "\n",
    "file_name = re.split(r\"\\\\\", hdf5_path)[-1]\n",
    "\n",
    "labels_list = [\"1dAVb\",\"RBBB\",\"LBBB\",\"SB\",\"ST\",\"AF\",\"normal_ecg\", \"not_normal_ecg\"]\n",
    "\n",
    "pd_req = pd_results[pd_results[\"trace_file\"]==file_name][labels_list[:-1]]\n",
    "labels_arr = pd_req.to_numpy()\n",
    "exam_id = pd_req.index.to_list()\n",
    "\n",
    "dest_root_fldr = r\"..\\data\\rough\"\n",
    "src_path = r\"..\\data\\code-15\\exams_part3_imgs\" #--Change this line\n",
    "normal_count = 0\n",
    "not_normal_count = 0\n",
    "disease_count = 0\n",
    "\n",
    "shutil.rmtree(dest_root_fldr, ignore_errors = True)\n",
    "os.makedirs(dest_root_fldr, exist_ok = True)\n",
    "\n",
    "for flr in labels_list:\n",
    "    os.makedirs(os.path.join(dest_root_fldr, f'{flr}'))\n",
    "\n",
    "\n",
    "for i,idx in enumerate(exam_id):\n",
    "    try:\n",
    "        if labels_arr[i,6]==1:\n",
    "            shutil.copy(os.path.join(src_path,f\"{idx}.jpg\"),os.path.join(dest_root_fldr, \"normal_ecg\"))\n",
    "            normal_count += 1\n",
    "\n",
    "        else:\n",
    "            if np.count_nonzero(labels_arr[i])==0:\n",
    "                shutil.copy(os.path.join(src_path,f\"{idx}.jpg\"), os.path.join(dest_root_fldr, \"not_normal_ecg\"))\n",
    "                not_normal_count +=1\n",
    "\n",
    "            else:\n",
    "                clas = labels_list[np.where(labels_arr[i]==1)[0][0]]\n",
    "                shutil.copy(os.path.join(src_path,f'{idx}.jpg'), os.path.join(dest_root_fldr, f\"{clas}\"))\n",
    "                disease_count += 1\n",
    "\n",
    "    except Exception as e:\n",
    "        print(e)\n",
    "\n",
    "print(\"normal count\", normal_count)\n",
    "print(\"not normal count\", not_normal_count)\n",
    "print(\"disease count\", disease_count)"
   ]
  },
  {
   "cell_type": "code",
   "execution_count": 16,
   "metadata": {},
   "outputs": [],
   "source": [
    "src = r\"..\\data\\rough\"\n",
    "dest = r\"..\\data\\vit-data\\train\"\n",
    "\n",
    "for path in glob.glob(src+r\"\\\\*\\\\*\"):\n",
    "    sub_dir = re.split(r\"\\\\\", path)[-2]\n",
    "    if not \"ecg\" in sub_dir:\n",
    "        shutil.copy(path, os.path.join(dest, sub_dir))\n",
    "\n",
    "\n",
    "\n"
   ]
  },
  {
   "cell_type": "markdown",
   "metadata": {},
   "source": [
    "### Verifying the exam_id from the hdf5 and the csv file"
   ]
  },
  {
   "cell_type": "code",
   "execution_count": 152,
   "metadata": {},
   "outputs": [],
   "source": [
    "# pd = pd_results[pd_results[\"trace_file\"]==\"exams_part0.hdf5\"]\n",
    "# exam_id_csv = pd.index.to_list()"
   ]
  },
  {
   "cell_type": "code",
   "execution_count": 149,
   "metadata": {},
   "outputs": [],
   "source": [
    "# exam_id_hdf5 = np.delete(np.array(f[\"exam_id\"]),np.where(np.array(f[\"exam_id\"])==0)).tolist()"
   ]
  },
  {
   "cell_type": "code",
   "execution_count": 153,
   "metadata": {},
   "outputs": [],
   "source": [
    "# exam_id_csv.sort()\n",
    "# exam_id_hdf5.sort()"
   ]
  },
  {
   "cell_type": "code",
   "execution_count": 147,
   "metadata": {},
   "outputs": [],
   "source": [
    "# exam_id_csv"
   ]
  },
  {
   "cell_type": "code",
   "execution_count": 158,
   "metadata": {},
   "outputs": [
    {
     "name": "stdout",
     "output_type": "stream",
     "text": [
      "written the csv file\n"
     ]
    }
   ],
   "source": [
    "# import csv\n",
    "# with open(\"verify.csv\", \"w\", newline='') as f:\n",
    "#     writer = csv.writer(f)\n",
    "\n",
    "#     for i, j in zip(exam_id_csv, exam_id_hdf5):\n",
    "#         writer.writerow([i, j])\n",
    "\n",
    "# print(\"written the csv file\")    "
   ]
  }
 ],
 "metadata": {
  "kernelspec": {
   "display_name": "base",
   "language": "python",
   "name": "python3"
  },
  "language_info": {
   "codemirror_mode": {
    "name": "ipython",
    "version": 3
   },
   "file_extension": ".py",
   "mimetype": "text/x-python",
   "name": "python",
   "nbconvert_exporter": "python",
   "pygments_lexer": "ipython3",
   "version": "3.11.4"
  },
  "orig_nbformat": 4
 },
 "nbformat": 4,
 "nbformat_minor": 2
}
