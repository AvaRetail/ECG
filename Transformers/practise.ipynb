{
 "cells": [
  {
   "cell_type": "code",
   "execution_count": 1,
   "metadata": {},
   "outputs": [],
   "source": [
    "# ! pip install matplotlib transformers datasets opencv-python h5py accelerate sckit-learn"
   ]
  },
  {
   "cell_type": "markdown",
   "metadata": {},
   "source": [
    "### Importing the necessary python libraries"
   ]
  },
  {
   "cell_type": "code",
   "execution_count": 1,
   "metadata": {},
   "outputs": [
    {
     "name": "stderr",
     "output_type": "stream",
     "text": [
      "c:\\Users\\ATI-G2\\Envs\\trans\\Lib\\site-packages\\tqdm\\auto.py:21: TqdmWarning: IProgress not found. Please update jupyter and ipywidgets. See https://ipywidgets.readthedocs.io/en/stable/user_install.html\n",
      "  from .autonotebook import tqdm as notebook_tqdm\n"
     ]
    }
   ],
   "source": [
    "import numpy as np\n",
    "import h5py\n",
    "from datasets import Dataset, load_dataset\n",
    "import pandas as pd\n",
    "import cv2\n",
    "import torch\n",
    "import math\n",
    "from matplotlib import pyplot as plt"
   ]
  },
  {
   "cell_type": "code",
   "execution_count": 2,
   "metadata": {},
   "outputs": [],
   "source": [
    "from sequence import ECGSequence"
   ]
  },
  {
   "cell_type": "markdown",
   "metadata": {},
   "source": [
    "### defining the paths"
   ]
  },
  {
   "cell_type": "code",
   "execution_count": 3,
   "metadata": {},
   "outputs": [],
   "source": [
    "hdf5_path =  r\"C:\\Users\\ATI-G2\\Documents\\python\\ECG\\data\\code-15\\exams_part0.hdf5\"\n",
    "exams_csv_path = r\"C:\\Users\\ATI-G2\\Documents\\python\\ECG\\data\\code-15\\exams.csv\""
   ]
  },
  {
   "cell_type": "code",
   "execution_count": 4,
   "metadata": {},
   "outputs": [],
   "source": [
    "f = h5py.File(hdf5_path,\"r\")\n",
    "pd_results = pd.read_csv(exams_csv_path,index_col=\"exam_id\")\n"
   ]
  },
  {
   "cell_type": "markdown",
   "metadata": {},
   "source": [
    "### Rough"
   ]
  },
  {
   "cell_type": "code",
   "execution_count": 3,
   "metadata": {},
   "outputs": [
    {
     "name": "stdout",
     "output_type": "stream",
     "text": [
      "1169160\n"
     ]
    }
   ],
   "source": [
    "# path_to_csv = r\"C:\\Users\\ATI-G2\\Documents\\python\\ECG\\data\\code-15\\exams.csv\"\n",
    "# pd_results = pd.read_csv(path_to_csv,index_col=\"exam_id\")\n",
    "# pd_results.index\n",
    "# for idx in pd_results.index:\n",
    "#     print(idx)\n",
    "#     break"
   ]
  },
  {
   "cell_type": "code",
   "execution_count": null,
   "metadata": {},
   "outputs": [],
   "source": []
  },
  {
   "cell_type": "markdown",
   "metadata": {},
   "source": [
    "### Transformers and datasets using hugging faces"
   ]
  },
  {
   "cell_type": "code",
   "execution_count": 33,
   "metadata": {},
   "outputs": [
    {
     "name": "stderr",
     "output_type": "stream",
     "text": [
      "Resolving data files: 100%|██████████| 20000/20000 [00:00<00:00, 23845.59it/s]\n"
     ]
    }
   ],
   "source": [
    "\n",
    "data_root_fldr = r\"C:\\Users\\ATI-G2\\Documents\\python\\ECG\\Transformers\\data\"\n",
    "\n",
    "food = load_dataset(\"imagefolder\",\n",
    "                    data_dir=data_root_fldr\n",
    "                    )\n"
   ]
  },
  {
   "cell_type": "code",
   "execution_count": 27,
   "metadata": {},
   "outputs": [],
   "source": [
    "data = food.train_test_split(test_size=0.05)"
   ]
  },
  {
   "cell_type": "code",
   "execution_count": 34,
   "metadata": {},
   "outputs": [
    {
     "data": {
      "text/plain": [
       "DatasetDict({\n",
       "    train: Dataset({\n",
       "        features: ['image', 'label'],\n",
       "        num_rows: 20000\n",
       "    })\n",
       "})"
      ]
     },
     "execution_count": 34,
     "metadata": {},
     "output_type": "execute_result"
    }
   ],
   "source": [
    "food"
   ]
  },
  {
   "cell_type": "code",
   "execution_count": 15,
   "metadata": {},
   "outputs": [],
   "source": [
    "# from sklearn.model_selection import train_test_split\n",
    "\n",
    "# train_data, validation_data = train_test_split(\n",
    "#     food['train'],\n",
    "#     test_size=0.05,\n",
    "#     random_state=42  # Set a random seed for reproducibility\n",
    "# )"
   ]
  },
  {
   "cell_type": "code",
   "execution_count": 18,
   "metadata": {},
   "outputs": [
    {
     "ename": "NameError",
     "evalue": "name 'train_data' is not defined",
     "output_type": "error",
     "traceback": [
      "\u001b[1;31m---------------------------------------------------------------------------\u001b[0m",
      "\u001b[1;31mNameError\u001b[0m                                 Traceback (most recent call last)",
      "Cell \u001b[1;32mIn[18], line 1\u001b[0m\n\u001b[1;32m----> 1\u001b[0m \u001b[39mdel\u001b[39;00m train_data \n\u001b[0;32m      2\u001b[0m \u001b[39m# del valdation_data\u001b[39;00m\n",
      "\u001b[1;31mNameError\u001b[0m: name 'train_data' is not defined"
     ]
    }
   ],
   "source": [
    "del train_data \n",
    "# del valdation_data"
   ]
  },
  {
   "cell_type": "markdown",
   "metadata": {},
   "source": [
    "### Working on extracting the labels for the generated images into a csv file"
   ]
  },
  {
   "cell_type": "code",
   "execution_count": 24,
   "metadata": {},
   "outputs": [
    {
     "data": {
      "text/html": [
       "<div>\n",
       "<style scoped>\n",
       "    .dataframe tbody tr th:only-of-type {\n",
       "        vertical-align: middle;\n",
       "    }\n",
       "\n",
       "    .dataframe tbody tr th {\n",
       "        vertical-align: top;\n",
       "    }\n",
       "\n",
       "    .dataframe thead th {\n",
       "        text-align: right;\n",
       "    }\n",
       "</style>\n",
       "<table border=\"1\" class=\"dataframe\">\n",
       "  <thead>\n",
       "    <tr style=\"text-align: right;\">\n",
       "      <th></th>\n",
       "      <th>age</th>\n",
       "      <th>is_male</th>\n",
       "      <th>nn_predicted_age</th>\n",
       "      <th>1dAVb</th>\n",
       "      <th>RBBB</th>\n",
       "      <th>LBBB</th>\n",
       "      <th>SB</th>\n",
       "      <th>ST</th>\n",
       "      <th>AF</th>\n",
       "      <th>patient_id</th>\n",
       "      <th>death</th>\n",
       "      <th>timey</th>\n",
       "      <th>normal_ecg</th>\n",
       "      <th>trace_file</th>\n",
       "    </tr>\n",
       "    <tr>\n",
       "      <th>exam_id</th>\n",
       "      <th></th>\n",
       "      <th></th>\n",
       "      <th></th>\n",
       "      <th></th>\n",
       "      <th></th>\n",
       "      <th></th>\n",
       "      <th></th>\n",
       "      <th></th>\n",
       "      <th></th>\n",
       "      <th></th>\n",
       "      <th></th>\n",
       "      <th></th>\n",
       "      <th></th>\n",
       "      <th></th>\n",
       "    </tr>\n",
       "  </thead>\n",
       "  <tbody>\n",
       "    <tr>\n",
       "      <th>1169160</th>\n",
       "      <td>38</td>\n",
       "      <td>True</td>\n",
       "      <td>40.160484</td>\n",
       "      <td>False</td>\n",
       "      <td>False</td>\n",
       "      <td>False</td>\n",
       "      <td>False</td>\n",
       "      <td>False</td>\n",
       "      <td>False</td>\n",
       "      <td>523632</td>\n",
       "      <td>False</td>\n",
       "      <td>2.098628</td>\n",
       "      <td>True</td>\n",
       "      <td>exams_part13.hdf5</td>\n",
       "    </tr>\n",
       "  </tbody>\n",
       "</table>\n",
       "</div>"
      ],
      "text/plain": [
       "         age  is_male  nn_predicted_age  1dAVb   RBBB   LBBB     SB     ST  \\\n",
       "exam_id                                                                      \n",
       "1169160   38     True         40.160484  False  False  False  False  False   \n",
       "\n",
       "            AF  patient_id  death     timey  normal_ecg         trace_file  \n",
       "exam_id                                                                     \n",
       "1169160  False      523632  False  2.098628        True  exams_part13.hdf5  "
      ]
     },
     "execution_count": 24,
     "metadata": {},
     "output_type": "execute_result"
    }
   ],
   "source": [
    "pd_results.head(1)"
   ]
  },
  {
   "cell_type": "markdown",
   "metadata": {},
   "source": [
    "Filtering the dataframe to extract only the required columns"
   ]
  },
  {
   "cell_type": "code",
   "execution_count": 134,
   "metadata": {},
   "outputs": [],
   "source": [
    "# exam_id = np.delete(np.array(f[\"exam_id\"]),np.where(np.array(f[\"exam_id\"])==0)).tolist()\n",
    "# pd_req = pd_results.loc[exam_id,[\"1dAVb\",\"RBBB\",\"LBBB\",\"SB\",\"ST\",\"AF\",\"normal_ecg\"]]\n",
    "# labels_arr = pd_req.to_numpy()\n"
   ]
  },
  {
   "cell_type": "code",
   "execution_count": 6,
   "metadata": {},
   "outputs": [],
   "source": [
    "pd_req = pd_results[pd_results[\"trace_file\"]==\"exams_part0.hdf5\"][[\"1dAVb\",\"RBBB\",\"LBBB\",\"SB\",\"ST\",\"AF\",\"normal_ecg\"]]\n",
    "labels_arr = pd_req.to_numpy()\n",
    "exam_id = pd_req.index.to_list()\n",
    "\n"
   ]
  },
  {
   "cell_type": "code",
   "execution_count": 56,
   "metadata": {},
   "outputs": [
    {
     "name": "stdout",
     "output_type": "stream",
     "text": [
      "<class 'pandas.core.frame.DataFrame'>\n",
      "Index: 20000 entries, 590673 to 536312\n",
      "Data columns (total 7 columns):\n",
      " #   Column      Non-Null Count  Dtype\n",
      "---  ------      --------------  -----\n",
      " 0   1dAVb       20000 non-null  bool \n",
      " 1   RBBB        20000 non-null  bool \n",
      " 2   LBBB        20000 non-null  bool \n",
      " 3   SB          20000 non-null  bool \n",
      " 4   ST          20000 non-null  bool \n",
      " 5   AF          20000 non-null  bool \n",
      " 6   normal_ecg  20000 non-null  bool \n",
      "dtypes: bool(7)\n",
      "memory usage: 293.0 KB\n"
     ]
    },
    {
     "data": {
      "text/plain": [
       "(None,\n",
       "         1dAVb   RBBB   LBBB     SB     ST     AF normal_ecg\n",
       " count   20000  20000  20000  20000  20000  20000      20000\n",
       " unique      2      2      2      2      2      2          2\n",
       " top     False  False  False  False  False  False      False\n",
       " freq    19655  19462  19663  19682  19577  19554      12299)"
      ]
     },
     "execution_count": 56,
     "metadata": {},
     "output_type": "execute_result"
    }
   ],
   "source": [
    "pd_req.info(), pd_req.describe()"
   ]
  },
  {
   "cell_type": "code",
   "execution_count": 7,
   "metadata": {},
   "outputs": [
    {
     "name": "stdout",
     "output_type": "stream",
     "text": [
      "       Column               Unique_Values\n",
      "0       1dAVb   {False: 19655, True: 345}\n",
      "1        RBBB   {False: 19462, True: 538}\n",
      "2        LBBB   {False: 19663, True: 337}\n",
      "3          SB   {False: 19682, True: 318}\n",
      "4          ST   {False: 19577, True: 423}\n",
      "5          AF   {False: 19554, True: 446}\n",
      "6  normal_ecg  {False: 12299, True: 7701}\n"
     ]
    }
   ],
   "source": [
    "df = pd_req\n",
    "\n",
    "# Create a summary list of dictionaries\n",
    "summary = []\n",
    "\n",
    "for column in df.columns:\n",
    "    unique_counts = df[column].value_counts().to_dict()\n",
    "    summary.append({'Column': column, 'Unique_Values': unique_counts})\n",
    "\n",
    "# Create a summary DataFrame from the list of dictionaries\n",
    "summary_df = pd.DataFrame(summary)\n",
    "\n",
    "print(summary_df)\n"
   ]
  },
  {
   "cell_type": "markdown",
   "metadata": {},
   "source": [
    "Creating the folders for the classification task"
   ]
  },
  {
   "cell_type": "code",
   "execution_count": 9,
   "metadata": {},
   "outputs": [
    {
     "name": "stdout",
     "output_type": "stream",
     "text": [
      "normal count 7701\n",
      "not normal count 10115\n",
      "disease count 2184\n"
     ]
    }
   ],
   "source": [
    "import os\n",
    "import shutil\n",
    "labels_list = [\"1dAVb\",\"RBBB\",\"LBBB\",\"SB\",\"ST\",\"AF\",\"normal_ecg\", \"not_normal_ecg\"]\n",
    "\n",
    "dest_root_fldr = r\".\\data\"\n",
    "src_path = r\"..\\data\\code-15\\exams_part0_imgs\"\n",
    "normal_count = 0\n",
    "not_normal_count = 0\n",
    "disease_count = 0\n",
    "\n",
    "shutil.rmtree(dest_root_fldr, ignore_errors = True)\n",
    "os.makedirs(dest_root_fldr, exist_ok = True)\n",
    "\n",
    "for flr in labels_list:\n",
    "    os.makedirs(dest_root_fldr+\"\\\\\"+f\"{flr}\")\n",
    "\n",
    "\n",
    "for i,idx in enumerate(exam_id):\n",
    "    try:\n",
    "        if labels_arr[i,6]==1:\n",
    "            shutil.copy(src_path+fr\"\\{idx}.jpg\",os.path.join(dest_root_fldr, \"normal_ecg\"))\n",
    "            normal_count += 1\n",
    "\n",
    "        else:\n",
    "            if np.count_nonzero(labels_arr[i])==0:\n",
    "                shutil.copy(src_path+fr\"\\{idx}.jpg\", os.path.join(dest_root_fldr, \"not_normal_ecg\"))\n",
    "                not_normal_count +=1\n",
    "\n",
    "            else:\n",
    "                clas = labels_list[np.where(labels_arr[i]==1)[0][0]]\n",
    "                shutil.copy(os.path.join(src_path,f'{idx}.jpg'), os.path.join(dest_root_fldr, f\"{clas}\"))\n",
    "                disease_count += 1\n",
    "\n",
    "    except Exception as e:\n",
    "        print(e)\n",
    "\n",
    "print(\"normal count\", normal_count)\n",
    "print(\"not normal count\", not_normal_count)\n",
    "print(\"disease count\", disease_count)"
   ]
  },
  {
   "cell_type": "code",
   "execution_count": 46,
   "metadata": {},
   "outputs": [
    {
     "data": {
      "text/plain": [
       "10108"
      ]
     },
     "execution_count": 46,
     "metadata": {},
     "output_type": "execute_result"
    }
   ],
   "source": [
    "np.count_nonzero(labels_arr)"
   ]
  },
  {
   "cell_type": "markdown",
   "metadata": {},
   "source": [
    "### Verifying the exam_id from the hdf5 and the csv file"
   ]
  },
  {
   "cell_type": "code",
   "execution_count": 152,
   "metadata": {},
   "outputs": [],
   "source": [
    "pd = pd_results[pd_results[\"trace_file\"]==\"exams_part0.hdf5\"]\n",
    "exam_id_csv = pd.index.to_list()"
   ]
  },
  {
   "cell_type": "code",
   "execution_count": 149,
   "metadata": {},
   "outputs": [],
   "source": [
    "exam_id_hdf5 = np.delete(np.array(f[\"exam_id\"]),np.where(np.array(f[\"exam_id\"])==0)).tolist()"
   ]
  },
  {
   "cell_type": "code",
   "execution_count": 153,
   "metadata": {},
   "outputs": [],
   "source": [
    "exam_id_csv.sort()\n",
    "exam_id_hdf5.sort()"
   ]
  },
  {
   "cell_type": "code",
   "execution_count": 147,
   "metadata": {},
   "outputs": [],
   "source": [
    "exam_id_csv"
   ]
  },
  {
   "cell_type": "code",
   "execution_count": 158,
   "metadata": {},
   "outputs": [
    {
     "name": "stdout",
     "output_type": "stream",
     "text": [
      "written the csv file\n"
     ]
    }
   ],
   "source": [
    "import csv\n",
    "with open(\"verify.csv\", \"w\", newline='') as f:\n",
    "    writer = csv.writer(f)\n",
    "\n",
    "    for i, j in zip(exam_id_csv, exam_id_hdf5):\n",
    "        writer.writerow([i, j])\n",
    "\n",
    "print(\"written the csv file\")    "
   ]
  }
 ],
 "metadata": {
  "kernelspec": {
   "display_name": "base",
   "language": "python",
   "name": "python3"
  },
  "language_info": {
   "codemirror_mode": {
    "name": "ipython",
    "version": 3
   },
   "file_extension": ".py",
   "mimetype": "text/x-python",
   "name": "python",
   "nbconvert_exporter": "python",
   "pygments_lexer": "ipython3",
   "version": "3.11.4"
  },
  "orig_nbformat": 4
 },
 "nbformat": 4,
 "nbformat_minor": 2
}
